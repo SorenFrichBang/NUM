{
 "cells": [
  {
   "attachments": {},
   "cell_type": "markdown",
   "metadata": {},
   "source": [
    "# Model Project "
   ]
  },
  {
   "attachments": {},
   "cell_type": "markdown",
   "metadata": {},
   "source": [
    "Imports and set magics:"
   ]
  },
  {
   "cell_type": "code",
   "execution_count": 2,
   "metadata": {},
   "outputs": [],
   "source": [
    "import numpy as np\n",
    "from scipy import optimize\n",
    "import sympy as sm\n",
    "from sympy import Symbol\n",
    "from sympy.solvers import solve\n",
    "sm.init_printing(use_unicode=True) # for pretty printing\n",
    "from IPython.display import display\n",
    "import matplotlib.pyplot as plt # baseline modul\n",
    "import ipywidgets as widgets\n",
    "from ipywidgets import interactive\n",
    "\n",
    "# autoreload modules when code is run\n",
    "%load_ext autoreload\n",
    "%autoreload 2\n",
    "\n",
    "# local modules\n",
    "import modelproject\n",
    "\n",
    "from IPython.display import display\n"
   ]
  },
  {
   "attachments": {},
   "cell_type": "markdown",
   "metadata": {},
   "source": [
    "# The Solow model with human capital\n",
    "\n",
    "We will be working with a solowmodel with fysical and human capital. \n",
    "Like fysical capital in the standard solow model, human capital accumulates. A fixed rate depriciates each priode, and a constant fraction $s_H$ of production is turned in to human capital. human capital can be thought of as things such as education, health and IQ.  \n",
    "\n",
    "\n",
    "## Variables \n",
    "\n",
    "* $Y_t$  : Production\n",
    "* $L_t$ : Labor\n",
    "* $A_t$ : Technology\n",
    "* $K_t$ : Phisical Capital\n",
    "* $H_t$ : Human Capital\n",
    "\n",
    "## Parameters\n",
    "\n",
    "* $s_h$:       Savings/Investments in human capital\\\n",
    "* $s_k$:       Savings/Investments in physical capital\\\n",
    "* $g$:         Growth rate of technology\\\n",
    "* $n$:         Growth rate of labour force\n",
    "* $\\delta$:     Deprisiation rate of physical capital\\\n",
    "* $\\alpha$:     Return physical capital\\\n",
    "* $\\phi$:       Return on human capital\\\n",
    "* $h$:         Human capital per effective worker (Stock)\\\n",
    "\n",
    "## Equations \n",
    "\n",
    "**Production funciton** \n",
    "\n",
    "$ Y_{t}=K_{t}^{\\alpha}H_{t}^{\\varphi}(A_{t}L_{t})^{1-\\alpha-\\varphi} $\n",
    "\n",
    "**Saving** \\\n",
    "Constant fraction of production in the eoconomy\n",
    "\n",
    "$ S_t = (s_H+s_K)Y_t,\\, s_H+s_K\\in(0,1) $\n",
    "\n",
    "**Capital Accumulation**\n",
    "\n",
    "$ K_{t+1}=s_{K}Y_t+(1-\\delta)K_{t}$\n",
    "\n",
    "**Human capital accumulation** \n",
    "\n",
    "$ H_{t+1} = s_{H}Y_t+(1-\\delta)H_t $\n",
    "\n",
    "**Population and teknology (TFP) growth**\n",
    "\n",
    "$ L_{t+1} = (1+n)L_t $\n",
    "\n",
    "$ A_{t+1} = (1+g)A_t $\n",
    "\n",
    "## Tilde equations\n",
    "\n",
    "In order to analyse the model we calculate the per effectiv worker values. That is, divid by the population and teknology level. \n",
    "\n",
    "\n",
    "**Defitiontions**\n",
    "\n",
    "Production, fysical capital and human capital as divided by popluation and teknology to get .... \\\n",
    "$   \\tilde{y}_{t} = \\frac{Y_{t}} {A_tL_t} $\\\n",
    "$   \\tilde{k}_{t} = \\frac{K_{t}} {A_tL_t} $\\\n",
    "$   \\tilde{h}_{t} = \\frac{H_{t}} {A_tL_t} $\n",
    "\n",
    "**Transition Equations** \n",
    "\n",
    "The tilde transition eqautions can be found by inserting the tilde definitions ...\n",
    "\n",
    "$ \\tilde{k}_{t+1}= \\frac{1}{(1+n)(1+g)}[s_K\\tilde{k}_{t}^{\\alpha}\\tilde{h}_{t}^{\\varphi}+(1-\\delta)\\tilde{k}_{t}] $\n",
    "\n",
    "$ \\tilde{h}_{t+1}= \\frac{1}{(1+n)(1+g)}[s_H\\tilde{k}_{t}^{\\alpha}\\tilde{h}_{t}^{\\varphi}+(1-\\delta)\\tilde{h}_{t}] $\n",
    "\n",
    "\n",
    "\n",
    "**OBS: In the folowing, the tilde values will simply be writen as uncapitalized letters**\n",
    "\n"
   ]
  },
  {
   "attachments": {},
   "cell_type": "markdown",
   "metadata": {},
   "source": [
    "## Analytical solution"
   ]
  },
  {
   "attachments": {},
   "cell_type": "markdown",
   "metadata": {},
   "source": [
    "## Nulclines"
   ]
  },
  {
   "attachments": {},
   "cell_type": "markdown",
   "metadata": {},
   "source": [
    "1. Defining the variables as symbols for using sympy"
   ]
  },
  {
   "cell_type": "code",
   "execution_count": 3,
   "metadata": {},
   "outputs": [],
   "source": [
    "\n",
    "k = sm.symbols('k')\n",
    "h = sm.symbols('h')\n",
    "y = sm.symbols('y')\n",
    "c = sm.symbols('c')\n",
    "sh = sm.symbols('s_h')\n",
    "sk = sm.symbols('s_k')\n",
    "delta = sm.symbols('delta')\n",
    "phi = sm.symbols('phi')\n",
    "alpha = sm.symbols('alpha')\n",
    "g = sm.symbols('g')\n",
    "n = sm.symbols('n')\n",
    "A = sm.symbols('A')\n",
    "\n",
    "x = [sk, sh, g, phi, n, alpha, delta]\n"
   ]
  },
  {
   "attachments": {},
   "cell_type": "markdown",
   "metadata": {},
   "source": [
    "2. Function for deriving the analytical solution"
   ]
  },
  {
   "cell_type": "code",
   "execution_count": 4,
   "metadata": {},
   "outputs": [],
   "source": [
    "# Analitical soluction - findes the solow equations and return the nult line \n",
    "def analytical(x, latex = False):\n",
    "\n",
    "    \"\"\" Derives the equations for the nultlines based on the transition equations for human and fysical capital\n",
    "\n",
    "    Args: \n",
    "    x:  list of parameters\n",
    "\n",
    "    Returns:\n",
    "    Nullclines for physical and human capital h(k)\n",
    "    if latex = true, printes the latex code for the nulclines\n",
    "\n",
    "    \"\"\"\n",
    "\n",
    "    #Transition lines:\n",
    "    k_t2 = (sk*k**alpha*h**phi+(1-delta)*k)/((1+n)*(1+g))\n",
    "    h_t2 = (sh*k**alpha*h**phi+(1-delta)*h)/((1+n)*(1+g))\n",
    "\n",
    "    #Change in capital stock () - Sollow equations \n",
    "    delta_k = k_t2 - k \n",
    "    delta_h = h_t2 - h\n",
    "    delta_combined = delta_h + delta_k\n",
    "\n",
    "    #Nultlines (Stock of capital is constant)\n",
    "    sollow_k = sm.Eq(delta_k,0)\n",
    "    sollow_h = sm.Eq(delta_h,0)\n",
    "\n",
    "    #Isolating k, and h in each equation - For drawing the phase diagram h should be isolated in both\n",
    "    nult_k = sm.solve(sollow_k,h)\n",
    "    nult_h = sm.solve(sollow_h,h)\n",
    "\n",
    "    out = {}\n",
    "    out['sollow_k'] = sollow_k\n",
    "    out['sollow_h'] = sollow_h\n",
    "\n",
    "    out['nult_k'] = nult_k\n",
    "    out['nult_h'] = nult_h\n",
    "\n",
    "    if latex == True: \n",
    "\n",
    "        print(f'  Latex code for the nult line for physical capital: \\n {sm.latex(nult_k)} \\n\\n')\n",
    "        print(f'  Latex code for the nult line for human capital: \\n  {sm.latex(nult_h)}')\n",
    "\n",
    "\n",
    "    return out\n",
    "#    return nult_k, nult_h\n",
    "#    return h_nult_vek, k_nult_vek\n"
   ]
  },
  {
   "attachments": {},
   "cell_type": "markdown",
   "metadata": {},
   "source": [
    "3. Calling function which derivaes the nulclines and prints latex code "
   ]
  },
  {
   "cell_type": "code",
   "execution_count": 5,
   "metadata": {},
   "outputs": [
    {
     "name": "stdout",
     "output_type": "stream",
     "text": [
      "  Latex code for the nult line for physical capital: \n",
      " \\left[ \\left(\\frac{k^{1 - \\alpha} \\left(\\delta + g n + g + n\\right)}{s_{k}}\\right)^{\\frac{1}{\\phi}}\\right] \n",
      "\n",
      "\n",
      "  Latex code for the nult line for human capital: \n",
      "  \\left[ \\left(\\frac{k^{- \\alpha} \\left(\\delta + g n + g + n\\right)}{s_{h}}\\right)^{\\frac{1}{\\phi - 1}}\\right]\n"
     ]
    }
   ],
   "source": [
    "out = analytical(x, True)"
   ]
  },
  {
   "attachments": {},
   "cell_type": "markdown",
   "metadata": {},
   "source": [
    "\n",
    "Nulcline for pysical capital:\n",
    "\n",
    "$$ \\tilde{h_t} = \\left[ \\left(\\frac{k^{1 - \\alpha} \\left(\\delta + g n + g + n\\right)}{s_{k}}\\right)^{\\frac{1}{\\phi}}\\right], \\quad \\Delta \\tilde{k}_t = 0 $$\n",
    "\n",
    "\n",
    "\n",
    "Nulcline for human capital:\n",
    "\n",
    "$$ \\tilde{h_t} =\\left[ \\left(\\frac{k^{- \\alpha} \\left(\\delta + g n + g + n\\right)}{s_{h}}\\right)^{\\frac{1}{\\phi - 1}}\\right], \\quad \\Delta \\tilde{h}_t = 0$$"
   ]
  },
  {
   "attachments": {},
   "cell_type": "markdown",
   "metadata": {},
   "source": [
    "## Steady state human and physical capital "
   ]
  },
  {
   "attachments": {},
   "cell_type": "markdown",
   "metadata": {},
   "source": [
    "Solving for steady state gives the folowing levels of fysical and human capital:\n",
    "\n",
    "Steady state pysical capital:\n",
    "$$\\tilde{k}^{\\ast}=\\left(\\dfrac{s_K^{1-\\varphi}s_H^{\\varphi}}{n+g+\\delta+ng}\\right)^{\\frac{1}{1-\\alpha-\\varphi}}$$\n",
    "\n",
    "\n",
    "Steady state human capital:\n",
    "$$\\tilde{h}^{\\ast}=\\left(\\dfrac{s_K^{\\alpha}s_H^{1-\\alpha}}{n+g+\\delta+ng}\\right)^{\\frac{1}{1-\\alpha-\\varphi}}$$\n",
    "\n",
    "\n",
    "There are cross-effects, meaning that an increase in the savings rate for physical capital incrseas both the level of human and fysical capital. The same is true for the savings on human capital "
   ]
  },
  {
   "attachments": {},
   "cell_type": "markdown",
   "metadata": {},
   "source": [
    "## Numerical solution"
   ]
  },
  {
   "attachments": {},
   "cell_type": "markdown",
   "metadata": {},
   "source": [
    "We now progress to the numerical solution to the Solow-Swan-model with human capital accumulation\n"
   ]
  },
  {
   "cell_type": "code",
   "execution_count": 6,
   "metadata": {},
   "outputs": [],
   "source": [
    "#For our numerical solution we use the following baseline parameters\n",
    "\n",
    "s_h = 0.10\n",
    "s_k = 0.10\n",
    "g = 0.02\n",
    "n = 0.01\n",
    "alpha = 1/3\n",
    "phi = 1/3\n",
    "delta = 0.05"
   ]
  },
  {
   "cell_type": "code",
   "execution_count": 7,
   "metadata": {},
   "outputs": [
    {
     "name": "stdout",
     "output_type": "stream",
     "text": [
      "The level of human and physical capital per effective worker \n",
      " in steady state are = 1.939 and 1.939, respectively.\n"
     ]
    }
   ],
   "source": [
    "#For our numerical solution\n",
    "\n",
    "def f(h,k,s_h,s_k,g,n,alpha,phi,delta):\n",
    "    \"\"\"input arguments:\n",
    "    h     (float): Human capital per effective worker (Stock)\n",
    "    k     (float): Physical capital per effective worker (Stock)\n",
    "    s_h   (float): Savings/Investments in human capital\n",
    "    s_k   (float): Savings/Investments in physical capital\n",
    "    g     (float): Growth rate of technology\n",
    "    n     (float): Growth rate of labour force\n",
    "    alpha (float): Return on physical capital\n",
    "    phi   (float): Return on human capital\n",
    "    delta (float): Depreciation rate of physical capital\n",
    "    \n",
    "    Returns: \n",
    "    The transition equation for human and physical capital per effective worker in steady state\n",
    "    \"\"\"\n",
    "\n",
    "    h_function = 1/((1+n)*(1+g))*(s_h*k**(alpha)*h**(phi)+(1-delta)*h)-h\n",
    "    k_function = 1/((1+n)*(1+g))*(s_k*k**(alpha)*h**(phi)+(1-delta)*k)-k\n",
    "    return h_function,k_function\n",
    "\n",
    "# Setting up the objective and solving the model\n",
    "objective = lambda x: [f(x[0],x[1],s_h,s_k,g,n,alpha,phi,delta)]\n",
    "solution = optimize.root(objective,[1,1],method = 'broyden1')\n",
    "num_solution = solution.x\n",
    "\n",
    "print(f'The level of human and physical capital per effective worker \\n in steady state are = {num_solution[0]:.3f} and {num_solution[1]:.3f}, respectively.')\n"
   ]
  },
  {
   "attachments": {},
   "cell_type": "markdown",
   "metadata": {},
   "source": [
    "# Further analysis - Phase-diagrams"
   ]
  },
  {
   "attachments": {},
   "cell_type": "markdown",
   "metadata": {},
   "source": [
    "The phase-diagram can be used to illustrate that there only exist a single point where both human and physical capital per effective worker is constant, which is characterized as our steady state:\n",
    "\n",
    "$\\Delta\\tilde{h}^{\\ast}=\\Delta\\tilde{k}^{\\ast}=0$ \n",
    "\n",
    "\n",
    "The phase-diagram consists of two nullclines where $\\Delta\\tilde{h}^{\\ast}=0$ and $\\Delta\\tilde{k}^{\\ast}=0$, repsectively."
   ]
  },
  {
   "cell_type": "code",
   "execution_count": 8,
   "metadata": {},
   "outputs": [
    {
     "data": {
      "application/vnd.jupyter.widget-view+json": {
       "model_id": "42e576eb77bc4aa4b4387c6965beeffc",
       "version_major": 2,
       "version_minor": 0
      },
      "text/plain": [
       "interactive(children=(FloatSlider(value=0.1, description='s_h', max=0.2, step=0.02), FloatSlider(value=0.1, de…"
      ]
     },
     "metadata": {},
     "output_type": "display_data"
    }
   ],
   "source": [
    "# Define a function to calculate the nullclines\n",
    "def solve_ss(s_h=s_h, s_k=s_k, g=g, n=n, alpha=alpha, phi=phi, delta=delta):\n",
    "    \"\"\"args:\n",
    "    s_h    (float): Savings/Investments in human capital\n",
    "    s_k    (float): Savings/Investments in physical capital\n",
    "    g      (float): Growth rate of technology\n",
    "    n      (float): Growth rate of labour force\n",
    "    alpha  (float): Return on physical capital\n",
    "    phi    (float): Return on human capital\n",
    "    delta  (float): Depreciation rate\n",
    "    \n",
    "    Returns:\n",
    "    Nullclines for physical and human capital\n",
    "    \"\"\"\n",
    "    \n",
    "    # Grid for physical capital\n",
    "    k_vec = np.linspace(0.01, 5, 500)\n",
    "\n",
    "    # Grid for human capital when delta_k = 0\n",
    "    h_vec_DeltaK0 = np.empty(500)\n",
    "\n",
    "    # Grid for human capital when delta_h = 0\n",
    "    h_vec_DeltaH0 = np.empty(500)\n",
    "\n",
    "    for i, k in enumerate(k_vec):\n",
    "        # Solve for delta_h = 0\n",
    "        obj = lambda h: f(h, k, s_h, s_k, g, n, alpha, phi, delta)[0]\n",
    "        result = optimize.root_scalar(obj, method='brentq', bracket=[1e-20, 50])\n",
    "        h_vec_DeltaH0[i] = result.root\n",
    "\n",
    "        # Solve for delta_k = 0\n",
    "        obj = lambda h: f(h, k, s_h, s_k, g, n, alpha, phi, delta)[1]\n",
    "        result = optimize.root_scalar(obj, method='brentq', bracket=[1e-20, 50])\n",
    "        h_vec_DeltaK0[i] = result.root\n",
    "\n",
    "    # Create the plot\n",
    "    fig = plt.figure(figsize=(13,5))\n",
    "    ax = fig.add_subplot(1,2,1)\n",
    "    ax.plot(k_vec, h_vec_DeltaK0, label=r'$\\Delta \\tilde{k}=0$')\n",
    "    ax.plot(k_vec, h_vec_DeltaH0, label=r'$\\Delta \\tilde{h}=0$')\n",
    "    ax.set_xlabel(r'Physical capital per effective worker, $\\tilde{k}$')\n",
    "    ax.set_ylabel(r'Human capital per effective worker, $\\tilde{h}$')\n",
    "    ax.set(xlim=(0, 5), ylim=(0, 5))\n",
    "    ax.set_title('Phase diagram')\n",
    "\n",
    "    # Setting up the objective and solving the model, we repeat this step from earlier, so it will update when changing parameters with the widgets\n",
    "    objective = lambda x: [f(x[0],x[1],s_h,s_k,g,n,alpha,phi,delta)]\n",
    "    solution = optimize.root(objective,[1,1],method = 'broyden1')\n",
    "    num_solution = solution.x\n",
    "    \n",
    "    # Draw lines and mark the point of the ss-value\n",
    "    plt.axvline(num_solution[1], ymax=1, color='gray', linestyle='--') \n",
    "    plt.axhline(num_solution[0], xmax=1, color='gray', linestyle='--') \n",
    "    ax.scatter(num_solution[1],num_solution[0],color='black',s=80,zorder=2.5, label=r'$\\Delta\\tilde{h}=\\Delta\\tilde{k}=0$')\n",
    "    ax.legend() \n",
    "\n",
    "    print(f'The level of human and physical capital per effective worker in steady \\n state with updated parameters are = {num_solution[0]:.3f} and {num_solution[1]:.3f}, respectively.')\n",
    "\n",
    "# Create interactive sliders for the parameters\n",
    "inte = interactive(solve_ss,\n",
    "         s_h=(0, 0.2, 0.02), \n",
    "         s_k=(0, 0.2, 0.02), \n",
    "         g=(0, 0.05, 0.01), \n",
    "         n=(0, 0.05, 0.01),\n",
    "         alpha=(0.1, 0.7, 0.1), \n",
    "         phi=(0.2, 0.7, 0.1), \n",
    "         delta=(0.03, 0.09, 0.01))\n",
    "\n",
    "display(inte)\n",
    "\n"
   ]
  },
  {
   "attachments": {},
   "cell_type": "markdown",
   "metadata": {},
   "source": [
    "## Extension to the Solow model with human capital"
   ]
  },
  {
   "attachments": {},
   "cell_type": "markdown",
   "metadata": {},
   "source": [
    "### Simulation of the Solow Model with Human Capital and tax\n",
    "\n",
    "In the following simulation we consider a simplified version of the Solow model with human capital, where we assume a constant population growth rate $n$. savings rate for physical capital $s_k$, human capital $s_h$, techonological gworth $g$, depreciation rate $\\delta$, capital share $\\alpha$, human capital share $\\phi$, tax rate on physical capital investment $\\tau$, and the effect of human capital on investement $\\eta$. The parameter eta in this model representes the fraction of the tax paid on physical capital to the goverment, which is subsequently allocated to investement in human capital. This allocation of tax revenue towards human capital investment has the potential to stimulate higher levels of overall investment in the economy. \n",
    "\n",
    "The simulations starts with initial values for the different variables and the ierate over 1000 periods.The graph is interactive which mean we can gain insights on the relationsship between investment, capital accumulation, human capital development and economic growth by changing the parameters. \n",
    "\n",
    "The Solow model with human capital highlights the importance of both physical and human capital in driving long-term economic growth. It emphasizes that investing in human capital, such as education and skills development, can have significant positive effects on output and productivity. The model also demonstrates how changes in savings rates, population growth, technological progress, and policies such as taxes can impact the accumulation of capital and human capital, ultimately influencing economic growth rates.\n"
   ]
  },
  {
   "cell_type": "code",
   "execution_count": 13,
   "metadata": {},
   "outputs": [],
   "source": [
    "# we use the Baseparameters from earlier and add the following base parameters:\n",
    "tau = 0.1\n",
    "eta = 0.02\n"
   ]
  },
  {
   "cell_type": "code",
   "execution_count": 12,
   "metadata": {},
   "outputs": [
    {
     "data": {
      "application/vnd.jupyter.widget-view+json": {
       "model_id": "da58a441b1f04d7ea47c0d9f573c5f48",
       "version_major": 2,
       "version_minor": 0
      },
      "text/plain": [
       "interactive(children=(FloatSlider(value=0.01, description='n', max=0.05, step=0.01), FloatSlider(value=0.1, de…"
      ]
     },
     "metadata": {},
     "output_type": "display_data"
    }
   ],
   "source": [
    "\n",
    "# Define a function to simulate the Solow model\n",
    "def solow_model(n=n, s_k=s_k, s_h=s_h, g=g, delta=delta, alpha=alpha, phi=phi, tau=tau , eta=eta):\n",
    "    # Set initial values\n",
    "    k = 1               # Capital stock per effective worker\n",
    "    l = 1               # Labour per effective worker\n",
    "    a = 1               # Technology level\n",
    "    h = 1               # Human capital per effective worker\n",
    "    \n",
    "    # Create empty arrays to store data\n",
    "    num_periods = 1000\n",
    "    k_array = np.empty(num_periods)\n",
    "    y_array = np.empty(num_periods)\n",
    "    h_array = np.empty(num_periods)\n",
    "    \n",
    "    # Simulate the model for 1,000 periods\n",
    "    for t in range(num_periods):\n",
    "        k_array[t] = k\n",
    "        y_array[t] = k ** alpha * h ** phi \n",
    "        h_array[t] = h\n",
    "        \n",
    "        # Calculate investment\n",
    "        i_k = s_k * y_array[t] * (1 - tau)\n",
    "        i_h = s_h * y_array[t] * (1 + eta)\n",
    "        \n",
    "        # Update capital and human capital\n",
    "        k = 1/(1+n)*(1+g)*((1 - delta) * k + i_k) / (l * a)\n",
    "        h = 1/(1+n)*(1+g)*((1 - delta) * h + i_h) / (l * a)\n",
    "        \n",
    "    # Plot the results\n",
    "    t_values = np.arange(num_periods)\n",
    "    plt.plot(t_values, k_array, label='Capital per effective worker')\n",
    "    plt.plot(t_values, y_array, label='Output per effective worker')\n",
    "    plt.plot(t_values, h_array, label='Human capital per effective worker')\n",
    "    plt.legend()\n",
    "    plt.xlabel('Time')\n",
    "    plt.ylabel('Level')\n",
    "    plt.title('Simulation of the Solow model with human capital and tax for 1,000 periods')\n",
    "    plt.show()\n",
    "\n",
    "# Create interactive sliders for the parameters\n",
    "inte2 =interactive(solow_model, \n",
    "         n=(0, 0.05, 0.01), \n",
    "         s_k=(0, 0.2, 0.02), \n",
    "         s_h=(0, 0.2, 0.02), \n",
    "         g=(0, 0.05, 0.01), \n",
    "         delta=(0.03, 0.09, 0.01), \n",
    "         alpha=(0.1, 0.7, 0.1), \n",
    "         phi=(0.2, 0.7, 0.1), \n",
    "         tau=(0, 1, 0.1), \n",
    "         eta=(0, 1, 0.1))\n",
    "display(inte2)\n"
   ]
  },
  {
   "attachments": {},
   "cell_type": "markdown",
   "metadata": {},
   "source": [
    "# Conclusion"
   ]
  },
  {
   "attachments": {},
   "cell_type": "markdown",
   "metadata": {},
   "source": [
    "In conclusion, the Solow model with human capital has provided valuable insights into the dynamics of economic growth by incorporating the role of human capital and exploring the impact of various parameters.\n",
    "\n",
    "Firstly, we identified an analytical solution to the Solow model with human capital, which allowed us to understand the theoretical relationships between savings, production, and the accumulation of physical and human capital. This analytical framework provided a solid foundation for further analysis.\n",
    "\n",
    "Secondly, we developed a numerical solution to determine the steady-state value of the model. By iteratively calculating the values of capital per effective worker and human capital per effective worker, we were able to identify the long-term equilibrium levels and understand the convergence dynamics of the model. The numerical solution helped us understand how the economy behaves in different situations.\n",
    "\n",
    "Lastly, we introduced a tax on physical capital and examined the effects of allocating tax revenue to human capital investment. This extension of the model allowed us to analyze the impact of fiscal policies on economic growth and resource allocation. By considering the fraction of tax revenue allocated to human capital investment, we explored the potential to enhance investment levels and promote sustainable development through targeted allocations.\n"
   ]
  },
  {
   "attachments": {},
   "cell_type": "markdown",
   "metadata": {},
   "source": []
  }
 ],
 "metadata": {
  "kernelspec": {
   "display_name": "base",
   "language": "python",
   "name": "python3"
  },
  "language_info": {
   "codemirror_mode": {
    "name": "ipython",
    "version": 3
   },
   "file_extension": ".py",
   "mimetype": "text/x-python",
   "name": "python",
   "nbconvert_exporter": "python",
   "pygments_lexer": "ipython3",
   "version": "3.9.16"
  },
  "toc-autonumbering": true,
  "vscode": {
   "interpreter": {
    "hash": "47ef90cdf3004d3f859f1fb202523c65c07ba7c22eefd261b181f4744e2d0403"
   }
  }
 },
 "nbformat": 4,
 "nbformat_minor": 4
}
