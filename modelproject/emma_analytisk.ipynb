{
 "cells": [
  {
   "cell_type": "code",
   "execution_count": 2,
   "metadata": {},
   "outputs": [],
   "source": [
    "import numpy as np\n",
    "from scipy import optimize\n",
    "import sympy as sm\n",
    "from sympy import Symbol\n",
    "from sympy.solvers import solve\n",
    "sm.init_printing(use_unicode=True) # for pretty printing\n",
    "from IPython.display import display\n",
    "import matplotlib.pyplot as plt # baseline modul\n",
    "import ipywidgets as widgets\n",
    "\n",
    "\n",
    "# autoreload modules when code is run\n",
    "%load_ext autoreload\n",
    "%autoreload 2\n",
    "\n",
    "# local modules\n",
    "#import modelproject\n"
   ]
  },
  {
   "attachments": {},
   "cell_type": "markdown",
   "metadata": {},
   "source": [
    "# The Solow model with human capital\n",
    "\n",
    "## Variables \n",
    "\n",
    "* $Y_t$  : Production\n",
    "* $L_t$ : Labor\n",
    "* $A_t$ : Technology\n",
    "* $K_t$ : Phisical Capital\n",
    "* $H_t$ : Human Capital\n",
    "\n",
    "## Parameters\n",
    "\n",
    "* $s_h$:       Savings/Investments in human capital\\\n",
    "* $s_k$:       Savings/Investments in physical capital\\\n",
    "* $g$:         Growth rate of technology\\\n",
    "* $n$:         Growth rate of labour force\n",
    "* $\\delta$:     Deprisiation rate of physical capital\\\n",
    "* $\\alpha$:     Return physical capital\\\n",
    "* $\\phi$:       Return on human capital\\\n",
    "* $h$:         Human capital per effective worker (Stock)\\\n",
    "\n",
    "## Equations \n",
    "\n",
    "**Production funciton** \n",
    "\n",
    "$ Y_{t}=K_{t}^{\\alpha}H_{t}^{\\varphi}(A_{t}L_{t})^{1-\\alpha-\\varphi} $\n",
    "\n",
    "**Saving** \\\n",
    "Constant fraction of production in the eoconomy\n",
    "\n",
    "$ S_t = (s_H+s_K)Y_t,\\, s_H+s_K\\in(0,1) $\n",
    "\n",
    "**Capital Accumulation**\n",
    "\n",
    "$ K_{t+1}=s_{K}Y_t+(1-\\delta)K_{t}$\n",
    "\n",
    "**Human capital accumulation** \n",
    "\n",
    "$ H_{t+1} = s_{H}Y_t+(1-\\delta)H_t $\n",
    "\n",
    "**Population and teknology (TFP) growth**\n",
    "\n",
    "$ L_{t+1} = (1+n)L_t $\n",
    "\n",
    "$ A_{t+1} = (1+g)A_t $\n",
    "\n",
    "## Tilde equations\n",
    "\n",
    "Per effectiv worker \n",
    "\n",
    "\n",
    "**Defitiontions**\n",
    "\n",
    "Production, fysical capital and human capital as divided by popluation and teknology to get .... \\\n",
    "$   \\tilde{y}_{t} = \\frac{Y_{t}} {A_tL_t} $\\\n",
    "$   \\tilde{k}_{t} = \\frac{K_{t}} {A_tL_t} $\\\n",
    "$   \\tilde{h}_{t} = \\frac{H_{t}} {A_tL_t} $\n",
    "\n",
    "**Transition Equations** \n",
    "\n",
    "The tilde transition eqautions can be found by inserting the tilde definitions ...\n",
    "\n",
    "$ \\tilde{k}_{t+1}= \\frac{1}{(1+n)(1+g)}[s_K\\tilde{k}_{t}^{\\alpha}\\tilde{h}_{t}^{\\varphi}+(1-\\delta)\\tilde{k}_{t}] $\n",
    "\n",
    "$ \\tilde{h}_{t+1}= \\frac{1}{(1+n)(1+g)}[s_H\\tilde{k}_{t}^{\\alpha}\\tilde{h}_{t}^{\\varphi}+(1-\\delta)\\tilde{h}_{t}] $\n",
    "\n",
    "\n"
   ]
  },
  {
   "attachments": {},
   "cell_type": "markdown",
   "metadata": {},
   "source": [
    "# Analytical solution"
   ]
  },
  {
   "attachments": {},
   "cell_type": "markdown",
   "metadata": {},
   "source": [
    "## Nulclines"
   ]
  },
  {
   "attachments": {},
   "cell_type": "markdown",
   "metadata": {},
   "source": [
    "1. Defining the variables as symbols for using sympy"
   ]
  },
  {
   "cell_type": "code",
   "execution_count": 3,
   "metadata": {},
   "outputs": [],
   "source": [
    "\n",
    "k = sm.symbols('k')\n",
    "h = sm.symbols('h')\n",
    "y = sm.symbols('y')\n",
    "c = sm.symbols('c')\n",
    "sh = sm.symbols('s_h')\n",
    "sk = sm.symbols('s_k')\n",
    "delta = sm.symbols('delta')\n",
    "phi = sm.symbols('phi')\n",
    "alpha = sm.symbols('alpha')\n",
    "g = sm.symbols('g')\n",
    "n = sm.symbols('n')\n",
    "\n",
    "x = [sk, sh, g, phi, n, alpha, delta]\n"
   ]
  },
  {
   "attachments": {},
   "cell_type": "markdown",
   "metadata": {},
   "source": [
    "2. Function for deriving the analytical solution"
   ]
  },
  {
   "cell_type": "code",
   "execution_count": 4,
   "metadata": {},
   "outputs": [],
   "source": [
    "# Analitical soluction - findes the solow equations and return the nult line \n",
    "def analytical(x, latex = False):\n",
    "\n",
    "    \"\"\" Derives the equations for the nultlines based on the transition equations for human and fysical capital\n",
    "\n",
    "    Args: \n",
    "    x:  list of parameters\n",
    "\n",
    "    Returns:\n",
    "    Nullclines for physical and human capital h(k)\n",
    "\n",
    "    \"\"\"\n",
    "\n",
    "    #Transition lines:\n",
    "    k_t2 = (sk*k**alpha*h**phi+(1-delta)*k)/((1+n)*(1+g))\n",
    "    h_t2 = (sh*k**alpha*h**phi+(1-delta)*h)/((1+n)*(1+g))\n",
    "\n",
    "    #Change in capital stock () - Sollow equations \n",
    "    delta_k = k_t2 - k \n",
    "    delta_h = h_t2 - h\n",
    "    delta_combined = delta_h + delta_k\n",
    "\n",
    "    #Nultlines (Stock of capital is constant)\n",
    "    sollow_k = sm.Eq(delta_k,0)\n",
    "    sollow_h = sm.Eq(delta_h,0)\n",
    "\n",
    "    #Isolating k, and h in each equation - For drawing the phase diagram h should be isolated in both\n",
    "    nult_k = sm.solve(sollow_k,h)\n",
    "    nult_h = sm.solve(sollow_h,h)\n",
    "\n",
    "    if latex == True: \n",
    "\n",
    "        print(f'  Latex code for the nult line for physical capital: \\n {sm.latex(nult_k)} \\n\\n')\n",
    "        print(f'  Latex code for the nult line for human capital: \\n  {sm.latex(nult_h)}')\n",
    "\n",
    "\n",
    "\n",
    "    return nult_k, nult_h, delta_combined\n",
    "    #return h_nult_vek, k_nult_vek\n"
   ]
  },
  {
   "cell_type": "code",
   "execution_count": 5,
   "metadata": {},
   "outputs": [],
   "source": [
    "nult_k, nult_h, delta_combined = analytical(x, latex= False)\n"
   ]
  },
  {
   "attachments": {},
   "cell_type": "markdown",
   "metadata": {},
   "source": [
    "\n",
    "\n",
    "Nulcline for pysical capital:\n",
    "\n",
    "$$ \\tilde{h_t} = \\left[ \\left(\\frac{k^{1 - \\alpha} \\left(\\delta + g n + g + n\\right)}{s_{k}}\\right)^{\\frac{1}{\\phi}}\\right], \\quad \\Delta \\tilde{k}_t = 0 $$\n",
    "\n",
    "\n",
    "\n",
    "Nulcline for human capital:\n",
    "\n",
    "$$ \\tilde{h_t} =\\left[ \\left(\\frac{k^{- \\alpha} \\left(\\delta + g n + g + n\\right)}{s_{h}}\\right)^{\\frac{1}{\\phi - 1}}\\right], \\quad \\Delta \\tilde{h}_t = 0$$"
   ]
  },
  {
   "attachments": {},
   "cell_type": "markdown",
   "metadata": {},
   "source": [
    "## Steady state human and physical capital "
   ]
  },
  {
   "attachments": {},
   "cell_type": "markdown",
   "metadata": {},
   "source": [
    "Her skal der løses for steady states, det virker ikke lige nu "
   ]
  },
  {
   "attachments": {},
   "cell_type": "markdown",
   "metadata": {},
   "source": [
    "Steady state pysical capital:\n",
    "$$\\tilde{k}^{\\ast}=\\left(\\dfrac{s_K^{1-\\varphi}s_H^{\\varphi}}{n+g+\\delta+ng}\\right)^{\\frac{1}{1-\\alpha-\\varphi}}$$\n",
    "\n",
    "\n",
    "Steady state human capital:\n",
    "$$\\tilde{h}^{\\ast}=\\left(\\dfrac{s_K^{\\alpha}s_H^{1-\\alpha}}{n+g+\\delta+ng}\\right)^{\\frac{1}{1-\\alpha-\\varphi}}$$"
   ]
  },
  {
   "cell_type": "code",
   "execution_count": 10,
   "metadata": {},
   "outputs": [
    {
     "ename": "TypeError",
     "evalue": "cannot determine truth value of Relational",
     "output_type": "error",
     "traceback": [
      "\u001b[0;31m---------------------------------------------------------------------------\u001b[0m",
      "\u001b[0;31mTypeError\u001b[0m                                 Traceback (most recent call last)",
      "\u001b[0;32m/var/folders/1t/shy39gf516g7nrfy2pmdkn780000gn/T/ipykernel_1836/3114508947.py\u001b[0m in \u001b[0;36m<module>\u001b[0;34m\u001b[0m\n\u001b[1;32m      1\u001b[0m \u001b[0mdelta_combined_eq\u001b[0m \u001b[0;34m=\u001b[0m \u001b[0msm\u001b[0m\u001b[0;34m.\u001b[0m\u001b[0mEq\u001b[0m\u001b[0;34m(\u001b[0m\u001b[0mdelta_combined\u001b[0m\u001b[0;34m,\u001b[0m\u001b[0;36m0\u001b[0m\u001b[0;34m)\u001b[0m\u001b[0;34m\u001b[0m\u001b[0;34m\u001b[0m\u001b[0m\n\u001b[1;32m      2\u001b[0m \u001b[0;34m\u001b[0m\u001b[0m\n\u001b[0;32m----> 3\u001b[0;31m \u001b[0msm\u001b[0m\u001b[0;34m.\u001b[0m\u001b[0mnonlinsolve\u001b[0m\u001b[0;34m(\u001b[0m\u001b[0mdelta_combined_eq\u001b[0m\u001b[0;34m,\u001b[0m\u001b[0mk\u001b[0m\u001b[0;34m)\u001b[0m\u001b[0;34m\u001b[0m\u001b[0;34m\u001b[0m\u001b[0m\n\u001b[0m",
      "\u001b[0;32m~/opt/anaconda3/lib/python3.9/site-packages/sympy/solvers/solveset.py\u001b[0m in \u001b[0;36mnonlinsolve\u001b[0;34m(system, *symbols)\u001b[0m\n\u001b[1;32m   3750\u001b[0m \u001b[0;34m\u001b[0m\u001b[0m\n\u001b[1;32m   3751\u001b[0m     \"\"\"\n\u001b[0;32m-> 3752\u001b[0;31m     \u001b[0;32mif\u001b[0m \u001b[0;32mnot\u001b[0m \u001b[0msystem\u001b[0m\u001b[0;34m:\u001b[0m\u001b[0;34m\u001b[0m\u001b[0;34m\u001b[0m\u001b[0m\n\u001b[0m\u001b[1;32m   3753\u001b[0m         \u001b[0;32mreturn\u001b[0m \u001b[0mS\u001b[0m\u001b[0;34m.\u001b[0m\u001b[0mEmptySet\u001b[0m\u001b[0;34m\u001b[0m\u001b[0;34m\u001b[0m\u001b[0m\n\u001b[1;32m   3754\u001b[0m \u001b[0;34m\u001b[0m\u001b[0m\n",
      "\u001b[0;32m~/opt/anaconda3/lib/python3.9/site-packages/sympy/core/relational.py\u001b[0m in \u001b[0;36m__bool__\u001b[0;34m(self)\u001b[0m\n\u001b[1;32m    509\u001b[0m \u001b[0;34m\u001b[0m\u001b[0m\n\u001b[1;32m    510\u001b[0m     \u001b[0;32mdef\u001b[0m \u001b[0m__bool__\u001b[0m\u001b[0;34m(\u001b[0m\u001b[0mself\u001b[0m\u001b[0;34m)\u001b[0m\u001b[0;34m:\u001b[0m\u001b[0;34m\u001b[0m\u001b[0;34m\u001b[0m\u001b[0m\n\u001b[0;32m--> 511\u001b[0;31m         \u001b[0;32mraise\u001b[0m \u001b[0mTypeError\u001b[0m\u001b[0;34m(\u001b[0m\u001b[0;34m\"cannot determine truth value of Relational\"\u001b[0m\u001b[0;34m)\u001b[0m\u001b[0;34m\u001b[0m\u001b[0;34m\u001b[0m\u001b[0m\n\u001b[0m\u001b[1;32m    512\u001b[0m \u001b[0;34m\u001b[0m\u001b[0m\n\u001b[1;32m    513\u001b[0m     \u001b[0;32mdef\u001b[0m \u001b[0m_eval_as_set\u001b[0m\u001b[0;34m(\u001b[0m\u001b[0mself\u001b[0m\u001b[0;34m)\u001b[0m\u001b[0;34m:\u001b[0m\u001b[0;34m\u001b[0m\u001b[0;34m\u001b[0m\u001b[0m\n",
      "\u001b[0;31mTypeError\u001b[0m: cannot determine truth value of Relational"
     ]
    }
   ],
   "source": [
    "delta_combined_eq = sm.Eq(delta_combined,0)\n",
    "\n",
    "sm.nonlinsolve(delta_combined_eq,k)\n"
   ]
  },
  {
   "cell_type": "code",
   "execution_count": null,
   "metadata": {},
   "outputs": [],
   "source": [
    "def analytical(x):\n",
    "    #Transition lines:\n",
    "    k_t2 = (sk*k**alpha*h**phi+(1-delta)*k)/((1+n)*(1+g))\n",
    "    h_t2 = (sh*k**alpha*h**phi+(1-delta)*h)/((1+n)*(1+g))\n",
    "\n",
    "    #Change in capital stock () - Sollow equations \n",
    "    delta_k = k_t2 - k \n",
    "    delta_h = h_t2 - h\n",
    "\n",
    "    #Nultlines (Stock of capital is constant)\n",
    "    sollow_k = sm.Eq(delta_k,0)\n",
    "    sollow_h = sm.Eq(delta_h,0)\n",
    "\n",
    "    #Isolating k, and h in each equation - For drawing the phase diagram h should be isolated in both\n",
    "    nult_k = sm.solve(sollow_k,h)\n",
    "    nult_h = sm.solve(sollow_h,h)[2]\n",
    "\n",
    "    #nult_h_f = sm.lambdify((k), nult_h)[1]\n",
    "    #nult_k_f = sm.lambdify((k), nult_k)\n",
    "\n",
    "\n",
    "    return nult_k, nult_h\n",
    "    #return h_nult_vek, k_nult_vek\n"
   ]
  },
  {
   "cell_type": "code",
   "execution_count": null,
   "metadata": {},
   "outputs": [],
   "source": [
    "nult_k, nult_h = analytical(x)"
   ]
  },
  {
   "cell_type": "code",
   "execution_count": null,
   "metadata": {},
   "outputs": [],
   "source": [
    "nult_k, nult_h\n",
    "\n",
    "\n",
    "    #sollow_h = sm.Eq(delta_h,0)"
   ]
  },
  {
   "cell_type": "code",
   "execution_count": null,
   "metadata": {},
   "outputs": [],
   "source": [
    "#Numeric med den over\n",
    "\n",
    "nult_h_f = sm.lambdify((k), nult_h)\n",
    "nult_k_f = sm.lambdify((k), nult_k)\n",
    "\n",
    "\n",
    "h_nult_vek =  nult_h_f(k_vek)[2]\n",
    "k_nult_vek =  nult_k_f(k_vek)[0]"
   ]
  },
  {
   "cell_type": "code",
   "execution_count": null,
   "metadata": {},
   "outputs": [],
   "source": []
  },
  {
   "cell_type": "code",
   "execution_count": null,
   "metadata": {},
   "outputs": [],
   "source": [
    "out = test(x, k_vek)\n",
    "\n",
    "h_nult_vek = out[0]\n",
    "k_nult_vek = out[1]"
   ]
  },
  {
   "cell_type": "code",
   "execution_count": null,
   "metadata": {},
   "outputs": [],
   "source": [
    "def numeric(x):\n",
    "    #Transition lines:\n",
    "    k_t2 = (sk*k**alpha*h**phi+(1-delta)*k)/((1+n)*(1+g))\n",
    "    h_t2 = (sh*k**alpha*h**phi+(1-delta)*h)/((1+n)*(1+g))\n",
    "\n",
    "    #Change in capital stock () - Sollow equations \n",
    "    delta_k = k_t2 - k \n",
    "    delta_h = h_t2 - h\n",
    "\n",
    "    #Nultlines (Stock of capital is constant)\n",
    "    sollow_k = sm.Eq(delta_k,0)\n",
    "    sollow_h = sm.Eq(delta_h,0)\n",
    "\n",
    "    #Isolating k, and h in each equation - For drawing the phase diagram h should be isolated in both\n",
    "    nult_k = sm.solve(sollow_k,h)\n",
    "    nult_h = sm.solve(sollow_h,h)\n",
    "\n",
    "    nult_h_f = sm.lambdify((k), nult_h)\n",
    "    nult_k_f = sm.lambdify((k), nult_k)\n",
    "\n",
    "\n",
    "    #h_nult_vek =  nult_h_f(k_vek)[2]\n",
    "    #k_nult_vek =  nult_k_f(k_vek)[0]\n",
    "\n",
    "    return delta_k\n",
    "    #return h_nult_vek, k_nult_vek\n"
   ]
  },
  {
   "cell_type": "code",
   "execution_count": null,
   "metadata": {},
   "outputs": [],
   "source": [
    "nult_h_f = sm.lambdify((k), nult_h)\n",
    "nult_k_f = sm.lambdify((k), nult_k)"
   ]
  }
 ],
 "metadata": {
  "kernelspec": {
   "display_name": "base",
   "language": "python",
   "name": "python3"
  },
  "language_info": {
   "codemirror_mode": {
    "name": "ipython",
    "version": 3
   },
   "file_extension": ".py",
   "mimetype": "text/x-python",
   "name": "python",
   "nbconvert_exporter": "python",
   "pygments_lexer": "ipython3",
   "version": "3.9.13"
  },
  "orig_nbformat": 4
 },
 "nbformat": 4,
 "nbformat_minor": 2
}
